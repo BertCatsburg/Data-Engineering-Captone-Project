{
 "cells": [
  {
   "cell_type": "code",
   "id": "initial_id",
   "metadata": {
    "collapsed": true,
    "ExecuteTime": {
     "end_time": "2025-09-27T16:15:15.973067Z",
     "start_time": "2025-09-27T16:14:57.986221Z"
    }
   },
   "source": [
    "# Installing required packages\n",
    "!pip install pyspark\n",
    "!pip install findspark\n",
    "!pip install pyarrow==21.0.0\n",
    "!pip install pandas\n",
    "!pip install numpy==2.3.2"
   ],
   "outputs": [
    {
     "name": "stdout",
     "output_type": "stream",
     "text": [
      "Collecting pyspark\r\n",
      "  Using cached pyspark-4.0.1-py2.py3-none-any.whl\r\n",
      "Collecting py4j==0.10.9.9 (from pyspark)\r\n",
      "  Using cached py4j-0.10.9.9-py2.py3-none-any.whl.metadata (1.3 kB)\r\n",
      "Using cached py4j-0.10.9.9-py2.py3-none-any.whl (203 kB)\r\n",
      "Installing collected packages: py4j, pyspark\r\n",
      "Successfully installed py4j-0.10.9.9 pyspark-4.0.1\r\n",
      "\r\n",
      "\u001B[1m[\u001B[0m\u001B[34;49mnotice\u001B[0m\u001B[1;39;49m]\u001B[0m\u001B[39;49m A new release of pip is available: \u001B[0m\u001B[31;49m24.0\u001B[0m\u001B[39;49m -> \u001B[0m\u001B[32;49m25.2\u001B[0m\r\n",
      "\u001B[1m[\u001B[0m\u001B[34;49mnotice\u001B[0m\u001B[1;39;49m]\u001B[0m\u001B[39;49m To update, run: \u001B[0m\u001B[32;49mpip install --upgrade pip\u001B[0m\r\n",
      "Collecting findspark\r\n",
      "  Using cached findspark-2.0.1-py2.py3-none-any.whl.metadata (352 bytes)\r\n",
      "Using cached findspark-2.0.1-py2.py3-none-any.whl (4.4 kB)\r\n",
      "Installing collected packages: findspark\r\n",
      "Successfully installed findspark-2.0.1\r\n",
      "\r\n",
      "\u001B[1m[\u001B[0m\u001B[34;49mnotice\u001B[0m\u001B[1;39;49m]\u001B[0m\u001B[39;49m A new release of pip is available: \u001B[0m\u001B[31;49m24.0\u001B[0m\u001B[39;49m -> \u001B[0m\u001B[32;49m25.2\u001B[0m\r\n",
      "\u001B[1m[\u001B[0m\u001B[34;49mnotice\u001B[0m\u001B[1;39;49m]\u001B[0m\u001B[39;49m To update, run: \u001B[0m\u001B[32;49mpip install --upgrade pip\u001B[0m\r\n",
      "Collecting pyarrow==21.0.0\r\n",
      "  Using cached pyarrow-21.0.0-cp312-cp312-macosx_12_0_x86_64.whl.metadata (3.3 kB)\r\n",
      "Using cached pyarrow-21.0.0-cp312-cp312-macosx_12_0_x86_64.whl (32.7 MB)\r\n",
      "Installing collected packages: pyarrow\r\n",
      "Successfully installed pyarrow-21.0.0\r\n",
      "\r\n",
      "\u001B[1m[\u001B[0m\u001B[34;49mnotice\u001B[0m\u001B[1;39;49m]\u001B[0m\u001B[39;49m A new release of pip is available: \u001B[0m\u001B[31;49m24.0\u001B[0m\u001B[39;49m -> \u001B[0m\u001B[32;49m25.2\u001B[0m\r\n",
      "\u001B[1m[\u001B[0m\u001B[34;49mnotice\u001B[0m\u001B[1;39;49m]\u001B[0m\u001B[39;49m To update, run: \u001B[0m\u001B[32;49mpip install --upgrade pip\u001B[0m\r\n",
      "Requirement already satisfied: pandas in /Users/bert/Project/IBM/Data-Engineering-Course/Data-Engineering-Capstone-Project/.venv/lib/python3.12/site-packages (2.3.2)\r\n",
      "Requirement already satisfied: numpy>=1.26.0 in /Users/bert/Project/IBM/Data-Engineering-Course/Data-Engineering-Capstone-Project/.venv/lib/python3.12/site-packages (from pandas) (2.3.3)\r\n",
      "Requirement already satisfied: python-dateutil>=2.8.2 in /Users/bert/Project/IBM/Data-Engineering-Course/Data-Engineering-Capstone-Project/.venv/lib/python3.12/site-packages (from pandas) (2.9.0.post0)\r\n",
      "Requirement already satisfied: pytz>=2020.1 in /Users/bert/Project/IBM/Data-Engineering-Course/Data-Engineering-Capstone-Project/.venv/lib/python3.12/site-packages (from pandas) (2025.2)\r\n",
      "Requirement already satisfied: tzdata>=2022.7 in /Users/bert/Project/IBM/Data-Engineering-Course/Data-Engineering-Capstone-Project/.venv/lib/python3.12/site-packages (from pandas) (2025.2)\r\n",
      "Requirement already satisfied: six>=1.5 in /Users/bert/Project/IBM/Data-Engineering-Course/Data-Engineering-Capstone-Project/.venv/lib/python3.12/site-packages (from python-dateutil>=2.8.2->pandas) (1.17.0)\r\n",
      "\r\n",
      "\u001B[1m[\u001B[0m\u001B[34;49mnotice\u001B[0m\u001B[1;39;49m]\u001B[0m\u001B[39;49m A new release of pip is available: \u001B[0m\u001B[31;49m24.0\u001B[0m\u001B[39;49m -> \u001B[0m\u001B[32;49m25.2\u001B[0m\r\n",
      "\u001B[1m[\u001B[0m\u001B[34;49mnotice\u001B[0m\u001B[1;39;49m]\u001B[0m\u001B[39;49m To update, run: \u001B[0m\u001B[32;49mpip install --upgrade pip\u001B[0m\r\n",
      "Collecting numpy==2.3.2\r\n",
      "  Using cached numpy-2.3.2-cp312-cp312-macosx_14_0_x86_64.whl.metadata (62 kB)\r\n",
      "Using cached numpy-2.3.2-cp312-cp312-macosx_14_0_x86_64.whl (6.6 MB)\r\n",
      "Installing collected packages: numpy\r\n",
      "  Attempting uninstall: numpy\r\n",
      "    Found existing installation: numpy 2.3.3\r\n",
      "    Uninstalling numpy-2.3.3:\r\n",
      "      Successfully uninstalled numpy-2.3.3\r\n",
      "Successfully installed numpy-2.3.2\r\n",
      "\r\n",
      "\u001B[1m[\u001B[0m\u001B[34;49mnotice\u001B[0m\u001B[1;39;49m]\u001B[0m\u001B[39;49m A new release of pip is available: \u001B[0m\u001B[31;49m24.0\u001B[0m\u001B[39;49m -> \u001B[0m\u001B[32;49m25.2\u001B[0m\r\n",
      "\u001B[1m[\u001B[0m\u001B[34;49mnotice\u001B[0m\u001B[1;39;49m]\u001B[0m\u001B[39;49m To update, run: \u001B[0m\u001B[32;49mpip install --upgrade pip\u001B[0m\r\n"
     ]
    }
   ],
   "execution_count": 1
  },
  {
   "metadata": {
    "ExecuteTime": {
     "end_time": "2025-09-27T16:16:06.403873Z",
     "start_time": "2025-09-27T16:15:58.867542Z"
    }
   },
   "cell_type": "code",
   "source": [
    "import findspark\n",
    "findspark.init()\n",
    "\n",
    "\n",
    "import pandas as pd\n",
    "from pyspark import SparkContext, SparkConf\n",
    "from pyspark.sql import SparkSession"
   ],
   "id": "49a1602a8f04a12f",
   "outputs": [],
   "execution_count": 2
  },
  {
   "metadata": {
    "ExecuteTime": {
     "end_time": "2025-09-27T16:16:38.961094Z",
     "start_time": "2025-09-27T16:16:32.333104Z"
    }
   },
   "cell_type": "code",
   "source": [
    "# Creating a spark context class\n",
    "sc = SparkContext()\n",
    "\n",
    "# Creating a spark session\n",
    "spark = SparkSession \\\n",
    "    .builder \\\n",
    "    .appName(\"GradedQuiz\") \\\n",
    "    .getOrCreate()"
   ],
   "id": "7ee38aafc6186ec0",
   "outputs": [
    {
     "name": "stderr",
     "output_type": "stream",
     "text": [
      "WARNING: Using incubator modules: jdk.incubator.vector\n",
      "Using Spark's default log4j profile: org/apache/spark/log4j2-defaults.properties\n",
      "Setting default log level to \"WARN\".\n",
      "To adjust logging level use sc.setLogLevel(newLevel). For SparkR, use setLogLevel(newLevel).\n",
      "25/09/27 18:16:35 WARN NativeCodeLoader: Unable to load native-hadoop library for your platform... using builtin-java classes where applicable\n"
     ]
    }
   ],
   "execution_count": 3
  },
  {
   "metadata": {
    "ExecuteTime": {
     "end_time": "2025-09-27T16:22:32.640370Z",
     "start_time": "2025-09-27T16:22:32.247131Z"
    }
   },
   "cell_type": "code",
   "source": "sdf = spark.read.csv('../data/ecommerce.csv', header='true', inferSchema='true')",
   "id": "d18fd00a3bc985b",
   "outputs": [],
   "execution_count": 10
  },
  {
   "metadata": {
    "ExecuteTime": {
     "end_time": "2025-09-27T16:22:35.781582Z",
     "start_time": "2025-09-27T16:22:35.777932Z"
    }
   },
   "cell_type": "code",
   "source": "sdf.printSchema()",
   "id": "e64e70136edce426",
   "outputs": [
    {
     "name": "stdout",
     "output_type": "stream",
     "text": [
      "root\n",
      " |-- day: integer (nullable = true)\n",
      " |-- month: integer (nullable = true)\n",
      " |-- quarter: integer (nullable = true)\n",
      " |-- year: integer (nullable = true)\n",
      " |-- category: string (nullable = true)\n",
      " |-- item: string (nullable = true)\n",
      " |-- price: integer (nullable = true)\n",
      "\n"
     ]
    }
   ],
   "execution_count": 11
  },
  {
   "metadata": {
    "ExecuteTime": {
     "end_time": "2025-09-27T16:22:39.690192Z",
     "start_time": "2025-09-27T16:22:39.611110Z"
    }
   },
   "cell_type": "code",
   "source": "sdf.head()",
   "id": "77b6e9461d25d218",
   "outputs": [
    {
     "data": {
      "text/plain": [
       "Row(day=1, month=1, quarter=1, year=2020, category='Electronics', item='Tablet', price=1131)"
      ]
     },
     "execution_count": 12,
     "metadata": {},
     "output_type": "execute_result"
    }
   ],
   "execution_count": 12
  },
  {
   "metadata": {
    "ExecuteTime": {
     "end_time": "2025-09-27T16:22:43.603701Z",
     "start_time": "2025-09-27T16:22:43.600348Z"
    }
   },
   "cell_type": "code",
   "source": "print(type(sdf))",
   "id": "eee897b3b81465af",
   "outputs": [
    {
     "name": "stdout",
     "output_type": "stream",
     "text": [
      "<class 'pyspark.sql.classic.dataframe.DataFrame'>\n"
     ]
    }
   ],
   "execution_count": 13
  },
  {
   "metadata": {
    "ExecuteTime": {
     "end_time": "2025-09-27T16:23:07.906518Z",
     "start_time": "2025-09-27T16:23:07.871726Z"
    }
   },
   "cell_type": "code",
   "source": "sdf.createOrReplaceTempView('sdf')",
   "id": "f7d28399459d6a25",
   "outputs": [],
   "execution_count": 14
  },
  {
   "metadata": {
    "ExecuteTime": {
     "end_time": "2025-09-27T16:23:42.111072Z",
     "start_time": "2025-09-27T16:23:41.851692Z"
    }
   },
   "cell_type": "code",
   "source": "spark.sql(\"select * from sdf\").show(5)",
   "id": "b5b3652dc215b59a",
   "outputs": [
    {
     "name": "stdout",
     "output_type": "stream",
     "text": [
      "+---+-----+-------+----+-----------+-------+-----+\n",
      "|day|month|quarter|year|   category|   item|price|\n",
      "+---+-----+-------+----+-----------+-------+-----+\n",
      "|  1|    1|      1|2020|Electronics| Tablet| 1131|\n",
      "|  1|    1|      1|2020|     Ebooks|Fiction|   15|\n",
      "|  1|    1|      1|2020|Electronics| Laptop|  866|\n",
      "|  1|    1|      1|2020|Electronics| Mobile|  903|\n",
      "|  1|    1|      1|2020|     Ebooks|Fiction|    8|\n",
      "+---+-----+-------+----+-----------+-------+-----+\n",
      "only showing top 5 rows\n"
     ]
    }
   ],
   "execution_count": 15
  },
  {
   "metadata": {
    "ExecuteTime": {
     "end_time": "2025-09-27T16:24:28.297764Z",
     "start_time": "2025-09-27T16:24:27.186689Z"
    }
   },
   "cell_type": "code",
   "source": "spark.sql(\"select category, sum(price) from sdf group by category\").show(truncate=False)",
   "id": "4751606c17861096",
   "outputs": [
    {
     "name": "stdout",
     "output_type": "stream",
     "text": [
      "+-----------+----------+\n",
      "|category   |sum(price)|\n",
      "+-----------+----------+\n",
      "|Electronics|22456250  |\n",
      "|Ebooks     |594863    |\n",
      "|Music      |272556    |\n",
      "+-----------+----------+\n",
      "\n"
     ]
    }
   ],
   "execution_count": 16
  },
  {
   "metadata": {
    "ExecuteTime": {
     "end_time": "2025-09-27T16:30:30.385341Z",
     "start_time": "2025-09-27T16:30:30.109528Z"
    }
   },
   "cell_type": "code",
   "source": "spark.sql(\"select month, sum(price) as sumprice from sdf group by month order by sumprice asc\").show(truncate=False)",
   "id": "5fb45b3b2e6201b7",
   "outputs": [
    {
     "name": "stdout",
     "output_type": "stream",
     "text": [
      "+-----+--------+\n",
      "|month|sumprice|\n",
      "+-----+--------+\n",
      "|2    |1673807 |\n",
      "|4    |1866881 |\n",
      "|12   |1926732 |\n",
      "|9    |1931054 |\n",
      "|5    |1937700 |\n",
      "|11   |1950553 |\n",
      "|8    |1961923 |\n",
      "|10   |1974957 |\n",
      "|7    |1975697 |\n",
      "|3    |1988763 |\n",
      "|6    |1992023 |\n",
      "|1    |2143579 |\n",
      "+-----+--------+\n",
      "\n"
     ]
    }
   ],
   "execution_count": 21
  },
  {
   "metadata": {
    "ExecuteTime": {
     "end_time": "2025-09-27T16:31:26.257217Z",
     "start_time": "2025-09-27T16:31:26.253114Z"
    }
   },
   "cell_type": "code",
   "source": "sdf.printSchema()",
   "id": "5bcf23a8d82115",
   "outputs": [
    {
     "name": "stdout",
     "output_type": "stream",
     "text": [
      "root\n",
      " |-- day: integer (nullable = true)\n",
      " |-- month: integer (nullable = true)\n",
      " |-- quarter: integer (nullable = true)\n",
      " |-- year: integer (nullable = true)\n",
      " |-- category: string (nullable = true)\n",
      " |-- item: string (nullable = true)\n",
      " |-- price: integer (nullable = true)\n",
      "\n"
     ]
    }
   ],
   "execution_count": 22
  },
  {
   "metadata": {
    "ExecuteTime": {
     "end_time": "2025-09-27T16:32:17.797520Z",
     "start_time": "2025-09-27T16:32:17.586911Z"
    }
   },
   "cell_type": "code",
   "source": "spark.sql(\"select quarter, sum(price) as sumprice from sdf group by quarter order by sumprice asc\").show(truncate=False)",
   "id": "cc302b1ccfff5819",
   "outputs": [
    {
     "name": "stdout",
     "output_type": "stream",
     "text": [
      "+-------+--------+\n",
      "|quarter|sumprice|\n",
      "+-------+--------+\n",
      "|2      |5796604 |\n",
      "|1      |5806149 |\n",
      "|4      |5852242 |\n",
      "|3      |5868674 |\n",
      "+-------+--------+\n",
      "\n"
     ]
    }
   ],
   "execution_count": 23
  }
 ],
 "metadata": {
  "kernelspec": {
   "display_name": "Python 3",
   "language": "python",
   "name": "python3"
  },
  "language_info": {
   "codemirror_mode": {
    "name": "ipython",
    "version": 2
   },
   "file_extension": ".py",
   "mimetype": "text/x-python",
   "name": "python",
   "nbconvert_exporter": "python",
   "pygments_lexer": "ipython2",
   "version": "2.7.6"
  }
 },
 "nbformat": 4,
 "nbformat_minor": 5
}
