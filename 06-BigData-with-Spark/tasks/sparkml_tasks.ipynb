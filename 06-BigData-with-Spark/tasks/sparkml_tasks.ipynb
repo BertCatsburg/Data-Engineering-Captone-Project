{
 "cells": [
  {
   "cell_type": "code",
   "id": "initial_id",
   "metadata": {
    "collapsed": true,
    "ExecuteTime": {
     "end_time": "2025-09-30T09:50:47.372284Z",
     "start_time": "2025-09-30T09:50:44.653217Z"
    }
   },
   "source": [
    "from pyspark.ml.feature import VectorAssembler\n",
    "!pip install pyspark\n",
    "!pip install findspark"
   ],
   "outputs": [
    {
     "name": "stdout",
     "output_type": "stream",
     "text": [
      "Requirement already satisfied: pyspark in /Users/bert/Project/IBM/Data-Engineering-Course/Data-Engineering-Capstone-Project/.venv/lib/python3.12/site-packages (4.0.1)\r\n",
      "Requirement already satisfied: py4j==0.10.9.9 in /Users/bert/Project/IBM/Data-Engineering-Course/Data-Engineering-Capstone-Project/.venv/lib/python3.12/site-packages (from pyspark) (0.10.9.9)\r\n",
      "Requirement already satisfied: findspark in /Users/bert/Project/IBM/Data-Engineering-Course/Data-Engineering-Capstone-Project/.venv/lib/python3.12/site-packages (2.0.1)\r\n"
     ]
    }
   ],
   "execution_count": 1
  },
  {
   "metadata": {
    "ExecuteTime": {
     "end_time": "2025-09-30T09:50:53.435152Z",
     "start_time": "2025-09-30T09:50:53.178037Z"
    }
   },
   "cell_type": "code",
   "source": [
    "import findspark\n",
    "findspark.init()\n",
    "\n",
    "from pyspark import SparkContext, SparkConf\n",
    "from pyspark.sql import SparkSession"
   ],
   "id": "296aca91d712847f",
   "outputs": [],
   "execution_count": 2
  },
  {
   "metadata": {
    "ExecuteTime": {
     "end_time": "2025-09-30T09:51:11.194444Z",
     "start_time": "2025-09-30T09:51:04.228978Z"
    }
   },
   "cell_type": "code",
   "source": [
    "# Creating a spark context class\n",
    "sc = SparkContext()\n",
    "\n",
    "# Creating a spark session\n",
    "spark = SparkSession \\\n",
    "    .builder \\\n",
    "    .appName(\"Analyse search terms on the e-commerce web server\").getOrCreate()"
   ],
   "id": "bad9ed2a1becd5ae",
   "outputs": [
    {
     "name": "stderr",
     "output_type": "stream",
     "text": [
      "WARNING: Using incubator modules: jdk.incubator.vector\n",
      "Using Spark's default log4j profile: org/apache/spark/log4j2-defaults.properties\n",
      "25/09/30 11:51:06 WARN Utils: Your hostname, BertPro3.local, resolves to a loopback address: 127.0.0.1; using 192.168.68.178 instead (on interface en0)\n",
      "25/09/30 11:51:06 WARN Utils: Set SPARK_LOCAL_IP if you need to bind to another address\n",
      "Using Spark's default log4j profile: org/apache/spark/log4j2-defaults.properties\n",
      "Setting default log level to \"WARN\".\n",
      "To adjust logging level use sc.setLogLevel(newLevel). For SparkR, use setLogLevel(newLevel).\n",
      "25/09/30 11:51:07 WARN NativeCodeLoader: Unable to load native-hadoop library for your platform... using builtin-java classes where applicable\n"
     ]
    }
   ],
   "execution_count": 3
  },
  {
   "metadata": {
    "ExecuteTime": {
     "end_time": "2025-09-30T09:51:14.230177Z",
     "start_time": "2025-09-30T09:51:12.435085Z"
    }
   },
   "cell_type": "code",
   "source": "!wget https://cf-courses-data.s3.us.cloud-object-storage.appdomain.cloud/IBM-DB0321EN-SkillsNetwork/Bigdata%20and%20Spark/searchterms.csv\n",
   "id": "1a57517bb8282109",
   "outputs": [
    {
     "name": "stdout",
     "output_type": "stream",
     "text": [
      "--2025-09-30 11:51:12--  https://cf-courses-data.s3.us.cloud-object-storage.appdomain.cloud/IBM-DB0321EN-SkillsNetwork/Bigdata%20and%20Spark/searchterms.csv\r\n",
      "Resolving cf-courses-data.s3.us.cloud-object-storage.appdomain.cloud (cf-courses-data.s3.us.cloud-object-storage.appdomain.cloud)... 169.45.118.108\r\n",
      "Connecting to cf-courses-data.s3.us.cloud-object-storage.appdomain.cloud (cf-courses-data.s3.us.cloud-object-storage.appdomain.cloud)|169.45.118.108|:443... connected.\r\n",
      "HTTP request sent, awaiting response... 200 OK\r\n",
      "Length: 233457 (228K) [text/csv]\r\n",
      "Saving to: ‘searchterms.csv’\r\n",
      "\r\n",
      "searchterms.csv     100%[===================>] 227.99K   484KB/s    in 0.5s    \r\n",
      "\r\n",
      "2025-09-30 11:51:14 (484 KB/s) - ‘searchterms.csv’ saved [233457/233457]\r\n",
      "\r\n"
     ]
    }
   ],
   "execution_count": 4
  },
  {
   "metadata": {
    "ExecuteTime": {
     "end_time": "2025-09-30T09:51:28.800929Z",
     "start_time": "2025-09-30T09:51:28.666666Z"
    }
   },
   "cell_type": "code",
   "source": "!pwd",
   "id": "1ecb24386d109e2e",
   "outputs": [
    {
     "name": "stdout",
     "output_type": "stream",
     "text": [
      "/Users/bert/Project/IBM/Data-Engineering-Course/Data-Engineering-Capstone-Project/06-BigData-with-Spark/tasks\r\n"
     ]
    }
   ],
   "execution_count": 5
  },
  {
   "metadata": {
    "ExecuteTime": {
     "end_time": "2025-09-30T09:52:19.304232Z",
     "start_time": "2025-09-30T09:52:15.766443Z"
    }
   },
   "cell_type": "code",
   "source": "df = spark.read.csv('../data/searchterms.csv', header=True, inferSchema=True)\n",
   "id": "d89c12eacea12dfd",
   "outputs": [],
   "execution_count": 6
  },
  {
   "metadata": {
    "ExecuteTime": {
     "end_time": "2025-09-30T09:52:28.992627Z",
     "start_time": "2025-09-30T09:52:28.382114Z"
    }
   },
   "cell_type": "code",
   "source": "print(f\"Number of Rows is {df.count()} and the number of Columns is {len(df.columns)}\")\n",
   "id": "a0690c4c0072dda",
   "outputs": [
    {
     "name": "stdout",
     "output_type": "stream",
     "text": [
      "Number of Rows is 10000 and the number of Columns is 4\n"
     ]
    }
   ],
   "execution_count": 7
  },
  {
   "metadata": {
    "ExecuteTime": {
     "end_time": "2025-09-30T09:52:37.015947Z",
     "start_time": "2025-09-30T09:52:36.816944Z"
    }
   },
   "cell_type": "code",
   "source": "df.show(5, truncate=False)\n",
   "id": "43f0dd2813d0153e",
   "outputs": [
    {
     "name": "stdout",
     "output_type": "stream",
     "text": [
      "+---+-----+----+--------------+\n",
      "|day|month|year|searchterm    |\n",
      "+---+-----+----+--------------+\n",
      "|12 |11   |2021|mobile 6 inch |\n",
      "|12 |11   |2021|mobile latest |\n",
      "|12 |11   |2021|tablet wifi   |\n",
      "|12 |11   |2021|laptop 14 inch|\n",
      "|12 |11   |2021|mobile 5g     |\n",
      "+---+-----+----+--------------+\n",
      "only showing top 5 rows\n"
     ]
    }
   ],
   "execution_count": 8
  },
  {
   "metadata": {
    "ExecuteTime": {
     "end_time": "2025-09-30T09:52:46.587981Z",
     "start_time": "2025-09-30T09:52:46.583218Z"
    }
   },
   "cell_type": "code",
   "source": "df.printSchema()\n",
   "id": "eb51641a9c76a91d",
   "outputs": [
    {
     "name": "stdout",
     "output_type": "stream",
     "text": [
      "root\n",
      " |-- day: integer (nullable = true)\n",
      " |-- month: integer (nullable = true)\n",
      " |-- year: integer (nullable = true)\n",
      " |-- searchterm: string (nullable = true)\n",
      "\n"
     ]
    }
   ],
   "execution_count": 9
  },
  {
   "metadata": {
    "ExecuteTime": {
     "end_time": "2025-09-30T09:52:55.784298Z",
     "start_time": "2025-09-30T09:52:55.367637Z"
    }
   },
   "cell_type": "code",
   "source": [
    "df.createOrReplaceTempView('searchterms')\n",
    "result = spark.sql(\"select count(*) from searchterms where searchterm = 'gaming laptop'\").show()\n",
    "print(result)"
   ],
   "id": "7f2b34ddfdaeb07c",
   "outputs": [
    {
     "name": "stdout",
     "output_type": "stream",
     "text": [
      "+--------+\n",
      "|count(1)|\n",
      "+--------+\n",
      "|     499|\n",
      "+--------+\n",
      "\n",
      "None\n"
     ]
    }
   ],
   "execution_count": 10
  },
  {
   "metadata": {
    "ExecuteTime": {
     "end_time": "2025-09-30T09:53:05.134557Z",
     "start_time": "2025-09-30T09:53:04.555024Z"
    }
   },
   "cell_type": "code",
   "source": [
    "result = spark.sql(\"select searchterm, count(*) as mycount from searchterms group by searchterm order by mycount desc\").limit(5).show()\n",
    "print(result)"
   ],
   "id": "7875f5dc5ff5fdac",
   "outputs": [
    {
     "name": "stdout",
     "output_type": "stream",
     "text": [
      "+-------------+-------+\n",
      "|   searchterm|mycount|\n",
      "+-------------+-------+\n",
      "|mobile 6 inch|   2312|\n",
      "|    mobile 5g|   2301|\n",
      "|mobile latest|   1327|\n",
      "|       laptop|    935|\n",
      "|  tablet wifi|    896|\n",
      "+-------------+-------+\n",
      "\n",
      "None\n"
     ]
    }
   ],
   "execution_count": 11
  },
  {
   "metadata": {
    "ExecuteTime": {
     "end_time": "2025-09-30T09:53:15.790076Z",
     "start_time": "2025-09-30T09:53:14.711643Z"
    }
   },
   "cell_type": "code",
   "source": "!wget https://cf-courses-data.s3.us.cloud-object-storage.appdomain.cloud/IBM-DB0321EN-SkillsNetwork/Bigdata%20and%20Spark/model.tar.gz\n",
   "id": "ec77ae58f9305d94",
   "outputs": [
    {
     "name": "stdout",
     "output_type": "stream",
     "text": [
      "--2025-09-30 11:53:14--  https://cf-courses-data.s3.us.cloud-object-storage.appdomain.cloud/IBM-DB0321EN-SkillsNetwork/Bigdata%20and%20Spark/model.tar.gz\r\n",
      "Resolving cf-courses-data.s3.us.cloud-object-storage.appdomain.cloud (cf-courses-data.s3.us.cloud-object-storage.appdomain.cloud)... 169.45.118.108\r\n",
      "Connecting to cf-courses-data.s3.us.cloud-object-storage.appdomain.cloud (cf-courses-data.s3.us.cloud-object-storage.appdomain.cloud)|169.45.118.108|:443... connected.\r\n",
      "HTTP request sent, awaiting response... 200 OK\r\n",
      "Length: 1490 (1.5K) [application/x-tar]\r\n",
      "Saving to: ‘model.tar.gz’\r\n",
      "\r\n",
      "model.tar.gz        100%[===================>]   1.46K  --.-KB/s    in 0s      \r\n",
      "\r\n",
      "2025-09-30 11:53:15 (203 MB/s) - ‘model.tar.gz’ saved [1490/1490]\r\n",
      "\r\n"
     ]
    }
   ],
   "execution_count": 12
  },
  {
   "metadata": {
    "ExecuteTime": {
     "end_time": "2025-09-30T09:53:30.080846Z",
     "start_time": "2025-09-30T09:53:29.918980Z"
    }
   },
   "cell_type": "code",
   "source": "!tar -xvzf model.tar.gz\n",
   "id": "8cab5f767e1903f",
   "outputs": [
    {
     "name": "stdout",
     "output_type": "stream",
     "text": [
      "x sales_prediction.model/\r\n",
      "x sales_prediction.model/metadata/\r\n",
      "x sales_prediction.model/metadata/part-00000\r\n",
      "x sales_prediction.model/metadata/.part-00000.crc\r\n",
      "x sales_prediction.model/metadata/_SUCCESS\r\n",
      "x sales_prediction.model/data/\r\n",
      "x sales_prediction.model/data/part-00000-1db9fe2f-4d93-4b1f-966b-3b09e72d664e-c000.snappy.parquet\r\n",
      "x sales_prediction.model/data/_SUCCESS\r\n",
      "x sales_prediction.model/data/.part-00000-1db9fe2f-4d93-4b1f-966b-3b09e72d664e-c000.snappy.parquet.crc\r\n",
      "x sales_prediction.model/data/._SUCCESS.crc: Failed to restore metadata: File exists\r\n",
      "tar: Error exit delayed from previous errors.\r\n"
     ]
    }
   ],
   "execution_count": 13
  },
  {
   "metadata": {
    "ExecuteTime": {
     "end_time": "2025-09-30T10:10:41.175771Z",
     "start_time": "2025-09-30T10:10:41.172466Z"
    }
   },
   "cell_type": "code",
   "source": [
    "# from pyspark.mllib.regression import LinearRegressionModel\n",
    "from pyspark.ml import PipelineModel\n",
    "from pyspark.ml.regression import LinearRegressionModel\n"
   ],
   "id": "bede767578f6d8e2",
   "outputs": [],
   "execution_count": 19
  },
  {
   "metadata": {
    "ExecuteTime": {
     "end_time": "2025-09-30T10:09:09.066284Z",
     "start_time": "2025-09-30T10:09:08.706183Z"
    }
   },
   "cell_type": "code",
   "source": "sales_prediction_model = PipelineModel.load(\"./sales_prediction.model/\")",
   "id": "df7d61c4348e8588",
   "outputs": [
    {
     "name": "stderr",
     "output_type": "stream",
     "text": [
      "25/09/30 12:09:08 ERROR Instrumentation: java.lang.IllegalArgumentException: requirement failed: Error loading metadata: Expected class name org.apache.spark.ml.PipelineModel but found class name org.apache.spark.ml.regression.LinearRegressionModel\n",
      "\tat scala.Predef$.require(Predef.scala:337)\n",
      "\tat org.apache.spark.ml.util.DefaultParamsReader$.parseMetadata(ReadWrite.scala:715)\n",
      "\tat org.apache.spark.ml.util.DefaultParamsReader$.loadMetadata(ReadWrite.scala:690)\n",
      "\tat org.apache.spark.ml.Pipeline$SharedReadWrite$.$anonfun$load$3(Pipeline.scala:293)\n",
      "\tat org.apache.spark.ml.util.Instrumentation$.$anonfun$instrumented$1(Instrumentation.scala:226)\n",
      "\tat scala.util.Try$.apply(Try.scala:217)\n",
      "\tat org.apache.spark.ml.util.Instrumentation$.instrumented(Instrumentation.scala:226)\n",
      "\tat org.apache.spark.ml.Pipeline$SharedReadWrite$.load(Pipeline.scala:292)\n",
      "\tat org.apache.spark.ml.PipelineModel$PipelineModelReader.$anonfun$load$7(Pipeline.scala:381)\n",
      "\tat org.apache.spark.ml.MLEvents.withLoadInstanceEvent(events.scala:160)\n",
      "\tat org.apache.spark.ml.MLEvents.withLoadInstanceEvent$(events.scala:155)\n",
      "\tat org.apache.spark.ml.util.Instrumentation.withLoadInstanceEvent(Instrumentation.scala:44)\n",
      "\tat org.apache.spark.ml.PipelineModel$PipelineModelReader.$anonfun$load$6(Pipeline.scala:379)\n",
      "\tat org.apache.spark.ml.util.Instrumentation$.$anonfun$instrumented$1(Instrumentation.scala:226)\n",
      "\tat scala.util.Try$.apply(Try.scala:217)\n",
      "\tat org.apache.spark.ml.util.Instrumentation$.instrumented(Instrumentation.scala:226)\n",
      "\tat org.apache.spark.ml.PipelineModel$PipelineModelReader.load(Pipeline.scala:379)\n",
      "\tat java.base/jdk.internal.reflect.NativeMethodAccessorImpl.invoke0(Native Method)\n",
      "\tat java.base/jdk.internal.reflect.NativeMethodAccessorImpl.invoke(NativeMethodAccessorImpl.java:77)\n",
      "\tat java.base/jdk.internal.reflect.DelegatingMethodAccessorImpl.invoke(DelegatingMethodAccessorImpl.java:43)\n",
      "\tat java.base/java.lang.reflect.Method.invoke(Method.java:569)\n",
      "\tat py4j.reflection.MethodInvoker.invoke(MethodInvoker.java:244)\n",
      "\tat py4j.reflection.ReflectionEngine.invoke(ReflectionEngine.java:374)\n",
      "\tat py4j.Gateway.invoke(Gateway.java:282)\n",
      "\tat py4j.commands.AbstractCommand.invokeMethod(AbstractCommand.java:132)\n",
      "\tat py4j.commands.CallCommand.execute(CallCommand.java:79)\n",
      "\tat py4j.ClientServerConnection.waitForCommands(ClientServerConnection.java:184)\n",
      "\tat py4j.ClientServerConnection.run(ClientServerConnection.java:108)\n",
      "\tat java.base/java.lang.Thread.run(Thread.java:840)\n",
      "\n",
      "25/09/30 12:09:08 ERROR Instrumentation: java.lang.IllegalArgumentException: requirement failed: Error loading metadata: Expected class name org.apache.spark.ml.PipelineModel but found class name org.apache.spark.ml.regression.LinearRegressionModel\n",
      "\tat scala.Predef$.require(Predef.scala:337)\n",
      "\tat org.apache.spark.ml.util.DefaultParamsReader$.parseMetadata(ReadWrite.scala:715)\n",
      "\tat org.apache.spark.ml.util.DefaultParamsReader$.loadMetadata(ReadWrite.scala:690)\n",
      "\tat org.apache.spark.ml.Pipeline$SharedReadWrite$.$anonfun$load$3(Pipeline.scala:293)\n",
      "\tat org.apache.spark.ml.util.Instrumentation$.$anonfun$instrumented$1(Instrumentation.scala:226)\n",
      "\tat scala.util.Try$.apply(Try.scala:217)\n",
      "\tat org.apache.spark.ml.util.Instrumentation$.instrumented(Instrumentation.scala:226)\n",
      "\tat org.apache.spark.ml.Pipeline$SharedReadWrite$.load(Pipeline.scala:292)\n",
      "\tat org.apache.spark.ml.PipelineModel$PipelineModelReader.$anonfun$load$7(Pipeline.scala:381)\n",
      "\tat org.apache.spark.ml.MLEvents.withLoadInstanceEvent(events.scala:160)\n",
      "\tat org.apache.spark.ml.MLEvents.withLoadInstanceEvent$(events.scala:155)\n",
      "\tat org.apache.spark.ml.util.Instrumentation.withLoadInstanceEvent(Instrumentation.scala:44)\n",
      "\tat org.apache.spark.ml.PipelineModel$PipelineModelReader.$anonfun$load$6(Pipeline.scala:379)\n",
      "\tat org.apache.spark.ml.util.Instrumentation$.$anonfun$instrumented$1(Instrumentation.scala:226)\n",
      "\tat scala.util.Try$.apply(Try.scala:217)\n",
      "\tat org.apache.spark.ml.util.Instrumentation$.instrumented(Instrumentation.scala:226)\n",
      "\tat org.apache.spark.ml.PipelineModel$PipelineModelReader.load(Pipeline.scala:379)\n",
      "\tat java.base/jdk.internal.reflect.NativeMethodAccessorImpl.invoke0(Native Method)\n",
      "\tat java.base/jdk.internal.reflect.NativeMethodAccessorImpl.invoke(NativeMethodAccessorImpl.java:77)\n",
      "\tat java.base/jdk.internal.reflect.DelegatingMethodAccessorImpl.invoke(DelegatingMethodAccessorImpl.java:43)\n",
      "\tat java.base/java.lang.reflect.Method.invoke(Method.java:569)\n",
      "\tat py4j.reflection.MethodInvoker.invoke(MethodInvoker.java:244)\n",
      "\tat py4j.reflection.ReflectionEngine.invoke(ReflectionEngine.java:374)\n",
      "\tat py4j.Gateway.invoke(Gateway.java:282)\n",
      "\tat py4j.commands.AbstractCommand.invokeMethod(AbstractCommand.java:132)\n",
      "\tat py4j.commands.CallCommand.execute(CallCommand.java:79)\n",
      "\tat py4j.ClientServerConnection.waitForCommands(ClientServerConnection.java:184)\n",
      "\tat py4j.ClientServerConnection.run(ClientServerConnection.java:108)\n",
      "\tat java.base/java.lang.Thread.run(Thread.java:840)\n",
      "\n"
     ]
    },
    {
     "ename": "IllegalArgumentException",
     "evalue": "requirement failed: Error loading metadata: Expected class name org.apache.spark.ml.PipelineModel but found class name org.apache.spark.ml.regression.LinearRegressionModel",
     "output_type": "error",
     "traceback": [
      "\u001B[31m---------------------------------------------------------------------------\u001B[39m",
      "\u001B[31mIllegalArgumentException\u001B[39m                  Traceback (most recent call last)",
      "\u001B[36mCell\u001B[39m\u001B[36m \u001B[39m\u001B[32mIn[18]\u001B[39m\u001B[32m, line 1\u001B[39m\n\u001B[32m----> \u001B[39m\u001B[32m1\u001B[39m sales_prediction_model = \u001B[43mPipelineModel\u001B[49m\u001B[43m.\u001B[49m\u001B[43mload\u001B[49m\u001B[43m(\u001B[49m\u001B[33;43m\"\u001B[39;49m\u001B[33;43m./sales_prediction.model/\u001B[39;49m\u001B[33;43m\"\u001B[39;49m\u001B[43m)\u001B[49m\n",
      "\u001B[36mFile \u001B[39m\u001B[32m~/Project/IBM/Data-Engineering-Course/Data-Engineering-Capstone-Project/.venv/lib/python3.12/site-packages/pyspark/ml/util.py:717\u001B[39m, in \u001B[36mMLReadable.load\u001B[39m\u001B[34m(cls, path)\u001B[39m\n\u001B[32m    714\u001B[39m \u001B[38;5;129m@classmethod\u001B[39m\n\u001B[32m    715\u001B[39m \u001B[38;5;28;01mdef\u001B[39;00m\u001B[38;5;250m \u001B[39m\u001B[34mload\u001B[39m(\u001B[38;5;28mcls\u001B[39m, path: \u001B[38;5;28mstr\u001B[39m) -> RL:\n\u001B[32m    716\u001B[39m \u001B[38;5;250m    \u001B[39m\u001B[33;03m\"\"\"Reads an ML instance from the input path, a shortcut of `read().load(path)`.\"\"\"\u001B[39;00m\n\u001B[32m--> \u001B[39m\u001B[32m717\u001B[39m     \u001B[38;5;28;01mreturn\u001B[39;00m \u001B[38;5;28;43mcls\u001B[39;49m\u001B[43m.\u001B[49m\u001B[43mread\u001B[49m\u001B[43m(\u001B[49m\u001B[43m)\u001B[49m\u001B[43m.\u001B[49m\u001B[43mload\u001B[49m\u001B[43m(\u001B[49m\u001B[43mpath\u001B[49m\u001B[43m)\u001B[49m\n",
      "\u001B[36mFile \u001B[39m\u001B[32m~/Project/IBM/Data-Engineering-Course/Data-Engineering-Capstone-Project/.venv/lib/python3.12/site-packages/pyspark/ml/pipeline.py:291\u001B[39m, in \u001B[36mPipelineModelReader.load\u001B[39m\u001B[34m(self, path)\u001B[39m\n\u001B[32m    289\u001B[39m metadata = DefaultParamsReader.loadMetadata(path, \u001B[38;5;28mself\u001B[39m.sparkSession)\n\u001B[32m    290\u001B[39m \u001B[38;5;28;01mif\u001B[39;00m \u001B[33m\"\u001B[39m\u001B[33mlanguage\u001B[39m\u001B[33m\"\u001B[39m \u001B[38;5;129;01mnot\u001B[39;00m \u001B[38;5;129;01min\u001B[39;00m metadata[\u001B[33m\"\u001B[39m\u001B[33mparamMap\u001B[39m\u001B[33m\"\u001B[39m] \u001B[38;5;129;01mor\u001B[39;00m metadata[\u001B[33m\"\u001B[39m\u001B[33mparamMap\u001B[39m\u001B[33m\"\u001B[39m][\u001B[33m\"\u001B[39m\u001B[33mlanguage\u001B[39m\u001B[33m\"\u001B[39m] != \u001B[33m\"\u001B[39m\u001B[33mPython\u001B[39m\u001B[33m\"\u001B[39m:\n\u001B[32m--> \u001B[39m\u001B[32m291\u001B[39m     \u001B[38;5;28;01mreturn\u001B[39;00m \u001B[43mJavaMLReader\u001B[49m\u001B[43m(\u001B[49m\u001B[43mcast\u001B[49m\u001B[43m(\u001B[49m\u001B[43mType\u001B[49m\u001B[43m[\u001B[49m\u001B[33;43m\"\u001B[39;49m\u001B[33;43mJavaMLReadable[PipelineModel]\u001B[39;49m\u001B[33;43m\"\u001B[39;49m\u001B[43m]\u001B[49m\u001B[43m,\u001B[49m\u001B[43m \u001B[49m\u001B[38;5;28;43mself\u001B[39;49m\u001B[43m.\u001B[49m\u001B[43mcls\u001B[49m\u001B[43m)\u001B[49m\u001B[43m)\u001B[49m\u001B[43m.\u001B[49m\u001B[43mload\u001B[49m\u001B[43m(\u001B[49m\u001B[43mpath\u001B[49m\u001B[43m)\u001B[49m\n\u001B[32m    292\u001B[39m \u001B[38;5;28;01melse\u001B[39;00m:\n\u001B[32m    293\u001B[39m     uid, stages = PipelineSharedReadWrite.load(metadata, \u001B[38;5;28mself\u001B[39m.sparkSession, path)\n",
      "\u001B[36mFile \u001B[39m\u001B[32m~/Project/IBM/Data-Engineering-Course/Data-Engineering-Capstone-Project/.venv/lib/python3.12/site-packages/pyspark/ml/util.py:666\u001B[39m, in \u001B[36mJavaMLReader.load\u001B[39m\u001B[34m(self, path)\u001B[39m\n\u001B[32m    664\u001B[39m \u001B[38;5;28;01mif\u001B[39;00m \u001B[38;5;129;01mnot\u001B[39;00m \u001B[38;5;28misinstance\u001B[39m(path, \u001B[38;5;28mstr\u001B[39m):\n\u001B[32m    665\u001B[39m     \u001B[38;5;28;01mraise\u001B[39;00m \u001B[38;5;167;01mTypeError\u001B[39;00m(\u001B[33m\"\u001B[39m\u001B[33mpath should be a string, got type \u001B[39m\u001B[38;5;132;01m%s\u001B[39;00m\u001B[33m\"\u001B[39m % \u001B[38;5;28mtype\u001B[39m(path))\n\u001B[32m--> \u001B[39m\u001B[32m666\u001B[39m java_obj = \u001B[38;5;28;43mself\u001B[39;49m\u001B[43m.\u001B[49m\u001B[43m_jread\u001B[49m\u001B[43m.\u001B[49m\u001B[43mload\u001B[49m\u001B[43m(\u001B[49m\u001B[43mpath\u001B[49m\u001B[43m)\u001B[49m\n\u001B[32m    667\u001B[39m \u001B[38;5;28;01mif\u001B[39;00m \u001B[38;5;129;01mnot\u001B[39;00m \u001B[38;5;28mhasattr\u001B[39m(\u001B[38;5;28mself\u001B[39m._clazz, \u001B[33m\"\u001B[39m\u001B[33m_from_java\u001B[39m\u001B[33m\"\u001B[39m):\n\u001B[32m    668\u001B[39m     \u001B[38;5;28;01mraise\u001B[39;00m \u001B[38;5;167;01mNotImplementedError\u001B[39;00m(\n\u001B[32m    669\u001B[39m         \u001B[33m\"\u001B[39m\u001B[33mThis Java ML type cannot be loaded into Python currently: \u001B[39m\u001B[38;5;132;01m%r\u001B[39;00m\u001B[33m\"\u001B[39m % \u001B[38;5;28mself\u001B[39m._clazz\n\u001B[32m    670\u001B[39m     )\n",
      "\u001B[36mFile \u001B[39m\u001B[32m~/Project/IBM/Data-Engineering-Course/Data-Engineering-Capstone-Project/.venv/lib/python3.12/site-packages/py4j/java_gateway.py:1362\u001B[39m, in \u001B[36mJavaMember.__call__\u001B[39m\u001B[34m(self, *args)\u001B[39m\n\u001B[32m   1356\u001B[39m command = proto.CALL_COMMAND_NAME +\\\n\u001B[32m   1357\u001B[39m     \u001B[38;5;28mself\u001B[39m.command_header +\\\n\u001B[32m   1358\u001B[39m     args_command +\\\n\u001B[32m   1359\u001B[39m     proto.END_COMMAND_PART\n\u001B[32m   1361\u001B[39m answer = \u001B[38;5;28mself\u001B[39m.gateway_client.send_command(command)\n\u001B[32m-> \u001B[39m\u001B[32m1362\u001B[39m return_value = \u001B[43mget_return_value\u001B[49m\u001B[43m(\u001B[49m\n\u001B[32m   1363\u001B[39m \u001B[43m    \u001B[49m\u001B[43manswer\u001B[49m\u001B[43m,\u001B[49m\u001B[43m \u001B[49m\u001B[38;5;28;43mself\u001B[39;49m\u001B[43m.\u001B[49m\u001B[43mgateway_client\u001B[49m\u001B[43m,\u001B[49m\u001B[43m \u001B[49m\u001B[38;5;28;43mself\u001B[39;49m\u001B[43m.\u001B[49m\u001B[43mtarget_id\u001B[49m\u001B[43m,\u001B[49m\u001B[43m \u001B[49m\u001B[38;5;28;43mself\u001B[39;49m\u001B[43m.\u001B[49m\u001B[43mname\u001B[49m\u001B[43m)\u001B[49m\n\u001B[32m   1365\u001B[39m \u001B[38;5;28;01mfor\u001B[39;00m temp_arg \u001B[38;5;129;01min\u001B[39;00m temp_args:\n\u001B[32m   1366\u001B[39m     \u001B[38;5;28;01mif\u001B[39;00m \u001B[38;5;28mhasattr\u001B[39m(temp_arg, \u001B[33m\"\u001B[39m\u001B[33m_detach\u001B[39m\u001B[33m\"\u001B[39m):\n",
      "\u001B[36mFile \u001B[39m\u001B[32m~/Project/IBM/Data-Engineering-Course/Data-Engineering-Capstone-Project/.venv/lib/python3.12/site-packages/pyspark/errors/exceptions/captured.py:288\u001B[39m, in \u001B[36mcapture_sql_exception.<locals>.deco\u001B[39m\u001B[34m(*a, **kw)\u001B[39m\n\u001B[32m    284\u001B[39m converted = convert_exception(e.java_exception)\n\u001B[32m    285\u001B[39m \u001B[38;5;28;01mif\u001B[39;00m \u001B[38;5;129;01mnot\u001B[39;00m \u001B[38;5;28misinstance\u001B[39m(converted, UnknownException):\n\u001B[32m    286\u001B[39m     \u001B[38;5;66;03m# Hide where the exception came from that shows a non-Pythonic\u001B[39;00m\n\u001B[32m    287\u001B[39m     \u001B[38;5;66;03m# JVM exception message.\u001B[39;00m\n\u001B[32m--> \u001B[39m\u001B[32m288\u001B[39m     \u001B[38;5;28;01mraise\u001B[39;00m converted \u001B[38;5;28;01mfrom\u001B[39;00m\u001B[38;5;250m \u001B[39m\u001B[38;5;28;01mNone\u001B[39;00m\n\u001B[32m    289\u001B[39m \u001B[38;5;28;01melse\u001B[39;00m:\n\u001B[32m    290\u001B[39m     \u001B[38;5;28;01mraise\u001B[39;00m\n",
      "\u001B[31mIllegalArgumentException\u001B[39m: requirement failed: Error loading metadata: Expected class name org.apache.spark.ml.PipelineModel but found class name org.apache.spark.ml.regression.LinearRegressionModel"
     ]
    }
   ],
   "execution_count": 18
  },
  {
   "metadata": {
    "ExecuteTime": {
     "end_time": "2025-09-30T10:11:30.166005Z",
     "start_time": "2025-09-30T10:11:28.942732Z"
    }
   },
   "cell_type": "code",
   "source": "sales_prediction_model = LinearRegressionModel.load(\"./sales_prediction.model/\")\n",
   "id": "ff5430e17915f449",
   "outputs": [],
   "execution_count": 21
  },
  {
   "metadata": {
    "ExecuteTime": {
     "end_time": "2025-09-30T10:13:23.262087Z",
     "start_time": "2025-09-30T10:13:23.259050Z"
    }
   },
   "cell_type": "code",
   "source": "print(type(sales_prediction_model))",
   "id": "256b8ad5b94b4bd6",
   "outputs": [
    {
     "name": "stdout",
     "output_type": "stream",
     "text": [
      "<class 'pyspark.ml.regression.LinearRegressionModel'>\n"
     ]
    }
   ],
   "execution_count": 22
  },
  {
   "metadata": {
    "ExecuteTime": {
     "end_time": "2025-09-30T11:12:44.762535Z",
     "start_time": "2025-09-30T11:12:44.756866Z"
    }
   },
   "cell_type": "code",
   "source": "df.printSchema()",
   "id": "ac90b4a81f0941d0",
   "outputs": [
    {
     "name": "stdout",
     "output_type": "stream",
     "text": [
      "root\n",
      " |-- day: integer (nullable = true)\n",
      " |-- month: integer (nullable = true)\n",
      " |-- year: integer (nullable = true)\n",
      " |-- searchterm: string (nullable = true)\n",
      "\n"
     ]
    }
   ],
   "execution_count": 24
  },
  {
   "metadata": {
    "ExecuteTime": {
     "end_time": "2025-09-30T11:26:07.346227Z",
     "start_time": "2025-09-30T11:26:07.340543Z"
    }
   },
   "cell_type": "code",
   "source": [
    "from pyspark.ml.feature import VectorAssembler\n",
    "\n",
    "assembler = VectorAssembler(inputCols=['year'], outputCol='features')\n"
   ],
   "id": "11feb20c17b99b51",
   "outputs": [],
   "execution_count": 31
  },
  {
   "metadata": {
    "ExecuteTime": {
     "end_time": "2025-09-30T11:30:57.930417Z",
     "start_time": "2025-09-30T11:30:57.927741Z"
    }
   },
   "cell_type": "code",
   "source": [
    "data = [[2023, 0]]\n",
    "columns = [\"year\", \"sales\"]"
   ],
   "id": "103527fa3d40ac18",
   "outputs": [],
   "execution_count": 53
  },
  {
   "metadata": {
    "ExecuteTime": {
     "end_time": "2025-09-30T11:30:59.888373Z",
     "start_time": "2025-09-30T11:30:59.867611Z"
    }
   },
   "cell_type": "code",
   "source": [
    "\n",
    "dfx = spark.createDataFrame(data, columns)"
   ],
   "id": "99e7a7634d6dcaf2",
   "outputs": [],
   "execution_count": 54
  },
  {
   "metadata": {
    "ExecuteTime": {
     "end_time": "2025-09-30T11:31:01.561324Z",
     "start_time": "2025-09-30T11:31:01.557995Z"
    }
   },
   "cell_type": "code",
   "source": "dfx.printSchema()",
   "id": "4ed68463b6baaaae",
   "outputs": [
    {
     "name": "stdout",
     "output_type": "stream",
     "text": [
      "root\n",
      " |-- year: long (nullable = true)\n",
      " |-- sales: long (nullable = true)\n",
      "\n"
     ]
    }
   ],
   "execution_count": 55
  },
  {
   "metadata": {
    "ExecuteTime": {
     "end_time": "2025-09-30T11:31:07.784168Z",
     "start_time": "2025-09-30T11:31:06.979086Z"
    }
   },
   "cell_type": "code",
   "source": "dfx.show()",
   "id": "8039bddbe1bdb898",
   "outputs": [
    {
     "name": "stdout",
     "output_type": "stream",
     "text": [
      "+----+-----+\n",
      "|year|sales|\n",
      "+----+-----+\n",
      "|2023|    0|\n",
      "+----+-----+\n",
      "\n"
     ]
    }
   ],
   "execution_count": 56
  },
  {
   "metadata": {
    "ExecuteTime": {
     "end_time": "2025-09-30T11:31:10.728185Z",
     "start_time": "2025-09-30T11:31:10.693235Z"
    }
   },
   "cell_type": "code",
   "source": [
    "\n",
    "ass = assembler.transform(dfx).select('features', 'sales')"
   ],
   "id": "7f3b865b5099041b",
   "outputs": [],
   "execution_count": 57
  },
  {
   "metadata": {
    "ExecuteTime": {
     "end_time": "2025-09-30T11:31:19.231069Z",
     "start_time": "2025-09-30T11:31:19.227675Z"
    }
   },
   "cell_type": "code",
   "source": "print(ass)",
   "id": "a21cc5876492ac5f",
   "outputs": [
    {
     "name": "stdout",
     "output_type": "stream",
     "text": [
      "DataFrame[features: vector, sales: bigint]\n"
     ]
    }
   ],
   "execution_count": 58
  },
  {
   "metadata": {
    "ExecuteTime": {
     "end_time": "2025-09-30T11:31:57.337529Z",
     "start_time": "2025-09-30T11:31:56.509769Z"
    }
   },
   "cell_type": "code",
   "source": [
    "predictions = sales_prediction_model.transform(ass)\n",
    "predictions.select('prediction', 'sales').show()"
   ],
   "id": "3c530cd73daea52f",
   "outputs": [
    {
     "name": "stdout",
     "output_type": "stream",
     "text": [
      "+------------------+-----+\n",
      "|        prediction|sales|\n",
      "+------------------+-----+\n",
      "|175.16564294006457|    0|\n",
      "+------------------+-----+\n",
      "\n"
     ]
    },
    {
     "name": "stderr",
     "output_type": "stream",
     "text": [
      "25/09/30 13:31:57 WARN InstanceBuilder: Failed to load implementation from:dev.ludovic.netlib.blas.JNIBLAS\n"
     ]
    }
   ],
   "execution_count": 59
  }
 ],
 "metadata": {
  "kernelspec": {
   "display_name": "Python 3",
   "language": "python",
   "name": "python3"
  },
  "language_info": {
   "codemirror_mode": {
    "name": "ipython",
    "version": 2
   },
   "file_extension": ".py",
   "mimetype": "text/x-python",
   "name": "python",
   "nbconvert_exporter": "python",
   "pygments_lexer": "ipython2",
   "version": "2.7.6"
  }
 },
 "nbformat": 4,
 "nbformat_minor": 5
}
